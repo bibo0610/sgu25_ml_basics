{
 "cells": [
  {
   "cell_type": "markdown",
   "id": "a7717473-d3ac-460d-bec5-d0511874e31f",
   "metadata": {},
   "source": [
    "### Bài 1. Tính giá trị hàm số"
   ]
  },
  {
   "cell_type": "code",
   "execution_count": 1,
   "id": "5bd74049-e6da-4dbf-9cf8-5f1e2e70bc25",
   "metadata": {},
   "outputs": [
    {
     "name": "stdin",
     "output_type": "stream",
     "text": [
      "Moi ban nhap vao gia tri cua bien so x:  2.3\n"
     ]
    },
    {
     "name": "stdout",
     "output_type": "stream",
     "text": [
      "Gia tri cua ham so f(2.3) = 3.27.\n"
     ]
    }
   ],
   "source": [
    "# Khai báo thư viện\n",
    "import math\n",
    "\n",
    "# Nhập dữ liệu\n",
    "x = float(input('Moi ban nhap vao gia tri cua bien so x: '))\n",
    "\n",
    "# Xử lý\n",
    "f = x + (x**5 / math.factorial(5)) + (math.sqrt(abs(x)) / (x**(3/2)))\n",
    "\n",
    "# Xuất dữ liệu\n",
    "print(f'Gia tri cua ham so f({x}) = {f:.2f}.')"
   ]
  },
  {
   "cell_type": "markdown",
   "id": "f8be6dd1-bfac-4a69-bc9d-53c153ef05bd",
   "metadata": {},
   "source": [
    "### Bài 2. Đổi sang giờ phút giây"
   ]
  },
  {
   "cell_type": "code",
   "execution_count": 2,
   "id": "48028a6f-5100-42d4-bcc2-5d95c06e7823",
   "metadata": {},
   "outputs": [
    {
     "name": "stdin",
     "output_type": "stream",
     "text": [
      "Nhap vao tong so giay:  4810\n"
     ]
    },
    {
     "name": "stdout",
     "output_type": "stream",
     "text": [
      "4810 giay co dang 1:20:10\n"
     ]
    }
   ],
   "source": [
    "# Nhập dữ liệu\n",
    "t  = int(input('Nhap vao tong so giay: '))\n",
    "\n",
    "# Xử lý\n",
    "hh = t // 3600\n",
    "mm = (t % 3600) // 60\n",
    "ss = t % 60\n",
    "\n",
    "#Xuất dữ liệu\n",
    "print(f'{t} giay co dang {hh}:{mm}:{ss}')"
   ]
  },
  {
   "cell_type": "markdown",
   "id": "fee968fa-6aff-4b89-9493-711e978bbc8b",
   "metadata": {},
   "source": [
    "### Bài 3. Giải phương trình bậc 1"
   ]
  },
  {
   "cell_type": "code",
   "execution_count": 3,
   "id": "4619dacf-92e8-4e56-9523-095a3e0621bd",
   "metadata": {},
   "outputs": [
    {
     "name": "stdin",
     "output_type": "stream",
     "text": [
      "Moi ban nhap he so a:  1\n",
      "Moi ban nhap he so b:  5\n"
     ]
    },
    {
     "name": "stdout",
     "output_type": "stream",
     "text": [
      "Phuong trinh 1x + 5 = 0 co 1 nghiem x = -5.00.\n"
     ]
    }
   ],
   "source": [
    "# Nhập dữ liệu\n",
    "a  = int(input('Moi ban nhap he so a: '))\n",
    "b  = int(input('Moi ban nhap he so b: '))\n",
    "\n",
    "# Xử lý\n",
    "if a == 0:\n",
    "    if b == 0:\n",
    "        flag = -1   \n",
    "    else:\n",
    "        flag = 0    \n",
    "else:\n",
    "    flag = 1\n",
    "    x = -b / a\n",
    "    \n",
    "# Xuất dữ liệu\n",
    "s = f'Phuong trinh {a}x + {b} = 0'\n",
    "if flag == -1:\n",
    "    print(f'{s} vo so nghiem.')\n",
    "elif flag == 0:\n",
    "    print(f'{s} vo nghiem.')\n",
    "else:\n",
    "    print(f'{s} co 1 nghiem x = {x: .2f}.')"
   ]
  },
  {
   "cell_type": "markdown",
   "id": "6f20277d-754c-4f1e-b4c5-aac5acef9c9c",
   "metadata": {},
   "source": [
    "### Bài 4. Chuyển ký số sang số"
   ]
  },
  {
   "cell_type": "code",
   "execution_count": 5,
   "id": "5f2f924b-fa77-41d8-882a-8721a9bac138",
   "metadata": {},
   "outputs": [
    {
     "name": "stdin",
     "output_type": "stream",
     "text": [
      "Moi ban nhap chuoi ky so s:  oNe\n"
     ]
    },
    {
     "name": "stdout",
     "output_type": "stream",
     "text": [
      "Chuoi vua nhap hop le!\n",
      "\"oNe\" bieu dien so cho \"1\" va ung voi tieng Viet \"mot\".\n"
     ]
    }
   ],
   "source": [
    "s = input(\"Moi ban nhap chuoi ky so s: \")\n",
    "\n",
    "en  = [\"zero\", \"one\", \"two\", \"three\", \"four\", \"five\", \"six\", \"seven\", \"eight\", \"nine\"]\n",
    "vi  = [\"khong\", \"mot\", \"hai\", \"ba\", \"bon\", \"nam\", \"sau\", \"bay\", \"tam\", \"chin\"]\n",
    "num = [0, 1, 2, 3, 4, 5, 6, 7, 8, 9]\n",
    "\n",
    "s_lower = s.lower()\n",
    "if s_lower in en:\n",
    "    i = en.index(s_lower)\n",
    "    print(f'Chuoi vua nhap hop le!')\n",
    "    print(f'\"{s}\" bieu dien so cho \"{num[i]}\" va ung voi tieng Viet \"{vi[i]}\".')\n",
    "else:\n",
    "    print(\"Chuoi vua nhap khong hop le!\")"
   ]
  },
  {
   "cell_type": "markdown",
   "id": "fb5c417b-e3b9-4bfb-bea3-1c2dfda39ec0",
   "metadata": {},
   "source": [
    "### Bài 5. Tính tổng các số chẵn"
   ]
  },
  {
   "cell_type": "code",
   "execution_count": 6,
   "id": "6f9a4f16-5d0d-4c7b-8ee6-1c8f068aa7bf",
   "metadata": {},
   "outputs": [
    {
     "name": "stdin",
     "output_type": "stream",
     "text": [
      "Moi ban nhap so nguyen n:  100\n"
     ]
    },
    {
     "name": "stdout",
     "output_type": "stream",
     "text": [
      "Tong cac so chan tu 1 den 100 la 2550.\n"
     ]
    }
   ],
   "source": [
    "# Nhập dữ liệu\n",
    "n = int(input(\"Moi ban nhap so nguyen n: \"))\n",
    "\n",
    "# Xử lý\n",
    "s = 0\n",
    "for i in range(2, n+1, 2):\n",
    "    s += i\n",
    "\n",
    "# Xuất dữ liệu \n",
    "print(f'Tong cac so chan tu 1 den {n} la {s}.')"
   ]
  },
  {
   "cell_type": "markdown",
   "id": "165b1443-98c1-49d1-8517-10324f97a536",
   "metadata": {},
   "source": [
    "### Bài 6. Kiểm tra số nguyên tố"
   ]
  },
  {
   "cell_type": "code",
   "execution_count": 8,
   "id": "2ec855c2-858e-43f9-870a-a776f6ffcf61",
   "metadata": {},
   "outputs": [
    {
     "name": "stdin",
     "output_type": "stream",
     "text": [
      "Moi ban nhap so nguyen to n:  97\n"
     ]
    },
    {
     "name": "stdout",
     "output_type": "stream",
     "text": [
      "97 la so nguyen to.\n"
     ]
    }
   ],
   "source": [
    "# Nhập dữ liệu\n",
    "n = int(input(\"Moi ban nhap so nguyen to n: \"))\n",
    "\n",
    "# Xử lý\n",
    "lant = True\n",
    "if n < 2:\n",
    "    lant = False\n",
    "else:\n",
    "    for i in range(2, int(n**0.5) + 1):\n",
    "        if n % i == 0:\n",
    "            lant = False\n",
    "            break\n",
    "\n",
    "# Xuất dữ liệu\n",
    "if lant == True:\n",
    "    print(f'{n} la so nguyen to.')\n",
    "else:\n",
    "    print(f'{n} khong la so nguyen to.')"
   ]
  },
  {
   "cell_type": "markdown",
   "id": "53e10510-b9f4-4bc1-b557-585e8a7fb7a6",
   "metadata": {},
   "source": [
    "### Bài 7. Giải phương trình bậc 2"
   ]
  },
  {
   "cell_type": "code",
   "execution_count": 9,
   "id": "24e41e41-c071-4ff3-b450-21944f750a1e",
   "metadata": {},
   "outputs": [
    {
     "name": "stdin",
     "output_type": "stream",
     "text": [
      "Moi ban nhap he so a, b, c:  1 5 6\n"
     ]
    },
    {
     "name": "stdout",
     "output_type": "stream",
     "text": [
      "Phuong trinh bac 2 1.0x^2 + 5.0x + 6.0 = 0 co 2 nghiem, x1 = -3.00, x2 = -2.00!\n"
     ]
    }
   ],
   "source": [
    "# Nhập dữ liệu\n",
    "def NhapDuLieu():\n",
    "    \"\"\"\n",
    "    Input: người dùng nhập 3 số thực a, b, c\n",
    "    Output: tuple (a, b, c)\n",
    "    \"\"\"\n",
    "    while True:\n",
    "        try:\n",
    "            s = input(\"Moi ban nhap he so a, b, c: \").split()\n",
    "            if len(s) != 3:\n",
    "                raise ValueError\n",
    "            a, b, c = map(float, s)   # kiểm tra có phải số thực không\n",
    "            return a, b, c\n",
    "        except:\n",
    "            print(\"Ban nhap sai! Moi ban nhap lai!\")\n",
    "\n",
    "# Hàm giải ptb2\n",
    "def GiaiPhuongTrinhBac2(a, b, c):\n",
    "    \"\"\"\n",
    "    Input: a, b, c\n",
    "    Output:\n",
    "    + flag = -1 (VSN), 0 (VN), k (k nghiệm)\n",
    "    + () --> flag = -1, 0\n",
    "    + (x,) --> flag = 1\n",
    "    + (x1, x2) --> flag = 2\n",
    "    \"\"\"\n",
    "    import math\n",
    "    # a = 0\n",
    "    if a == 0:\n",
    "        if b == 0 and c == 0:\n",
    "            return -1, ()\n",
    "        elif b == 0 and c != 0:\n",
    "            return 0, ()\n",
    "        else:\n",
    "            return 1, (-c/b,)\n",
    "    # a khac 0\n",
    "    delta = b*b - 4*a*c\n",
    "    if delta < 0:\n",
    "        return 0, ()\n",
    "    elif delta == 0:\n",
    "        x = -b / (2*a)\n",
    "        return 1, (x,)\n",
    "    else:\n",
    "        x1 = (-b - math.sqrt(delta)) / (2*a)\n",
    "        x2 = (-b + math.sqrt(delta)) / (2*a)\n",
    "        return 2, (x1, x2)\n",
    "\n",
    "# ================== MAIN ==================\n",
    "a, b, c = NhapDuLieu()\n",
    "flag, x = GiaiPhuongTrinhBac2(a, b, c)\n",
    "\n",
    "# Xuất kết quả\n",
    "s = f'Phuong trinh bac 2 {a}x^2 + {b}x + {c} = 0'\n",
    "if flag == -1:\n",
    "    print(f'{s} co vo so nghiem!')\n",
    "elif flag == 0:\n",
    "    print(f'{s} vo nghiem!')\n",
    "elif flag == 1:\n",
    "    print(f'{s} co 1 nghiem, x = {x[0]:.2f}!')\n",
    "elif flag == 2:\n",
    "    print(f'{s} co 2 nghiem, x1 = {x[0]:.2f}, x2 = {x[1]:.2f}!')"
   ]
  },
  {
   "cell_type": "markdown",
   "id": "31da4636-e246-44af-8dfe-0fd6c565762c",
   "metadata": {},
   "source": [
    "### Bài 8. Các thao tác xử lý mảng số"
   ]
  },
  {
   "cell_type": "code",
   "execution_count": 10,
   "id": "423e66bf-4487-4537-bc03-986730531f07",
   "metadata": {},
   "outputs": [
    {
     "name": "stdin",
     "output_type": "stream",
     "text": [
      "Moi ban nhap mang (cach nhau khoang trang):  1 4 1 2 3 4 1 2 3 3 1 2 3 4 10 2\n"
     ]
    },
    {
     "name": "stdout",
     "output_type": "stream",
     "text": [
      "[1, 4, 1, 2, 3, 4, 1, 2, 3, 3, 1, 2, 3, 4, 10, 2]\n",
      "Mang co 16 phan tu: 1 4 1 2 3 4 1 2 3 3 1 2 3 4 10 2\n",
      "[3, -6, -3, -10, 4, 1, 1, 10, 8, -1, -6, -4, 4, -1, -6, 1, -3, -10, -6, -10, 0, 5, -4, 3, -3, -5, 8, 8, 3, -9]\n",
      "[9, 3, 7, 4, 10, 6, 5, 3, 5, 7, 0, 3, 5, 2, 4, 5, 1, 8, 2, 8, 10, 9, 0, 3, 0, 8, 6, 0, 0, 8]\n",
      "[-9, -6, -8, 2, -9, -3, 1, -10, -9, -4, 2, -3, -2, -7, -9, -5, -3, -8, 2, -8, -4, -1, -7, -6, -1, 0, -7, -9, 0, -2]\n",
      "(-31, 17, 13)\n",
      "(141, 17, 13)\n",
      "DayChanLe:\n",
      "Chan = [4, 2, 0, -6, 4, -10, -10, -4, -6, 10, -2, -10, -8, 2, -10, 6, 0]\n",
      "Le = [1, -1, -7, 3, 9, -5, 7, 7, -7, 1, 9, -3, -7]\n",
      "\n"
     ]
    }
   ],
   "source": [
    "def NhapMang():\n",
    "    \"\"\"\n",
    "    Input:\n",
    "        Ban phim = 1 4 1 2 3 4 1 2 3 3 1 2 3 4 10 2\n",
    "    Output:\n",
    "        a = [1, 4, 1, 2, 3, 4, 1, 2, 3, 3, 1, 2, 3, 4, 10, 2]\n",
    "    \"\"\"\n",
    "    s = input(\"Moi ban nhap mang (cach nhau khoang trang): \")\n",
    "    a = list(map(int, s.split()))   # chuyển chuỗi thành list số nguyên\n",
    "    return a\n",
    "\n",
    "# NhapMang\n",
    "a = NhapMang()\n",
    "print(a)\n",
    "\n",
    "def XuatMang(a):\n",
    "    \"\"\"\n",
    "    Input:\n",
    "        a = [1, 4, 1, 2, 3, 4, 1, 2, 3, 3, 1, 2, 3, 4, 10, 2]\n",
    "    Output:\n",
    "        Mang co 16 phan tu: 1 4 1 2 3 4 1 2 3 3 1 2 3 4 10 2\n",
    "    \"\"\"\n",
    "    print(f'Mang co {len(a)} phan tu:', *a)\n",
    "\n",
    "# XuatMang\n",
    "a = [1, 4, 1, 2, 3, 4, 1, 2, 3, 3, 1, 2, 3, 4, 10, 2]\n",
    "XuatMang(a)\n",
    "\n",
    "import random\n",
    "def SinhNgauNhien(n, vmin = -10, vmax = 10):\n",
    "    \"\"\"\n",
    "    Input:\n",
    "        n = 30, vmin = -10, vmax = 10\n",
    "    Output:\n",
    "        a = [-1, -4, -8, 6, 4, -5, ...]\n",
    "    \"\"\"\n",
    "    a = [random.randint(vmin, vmax) for _ in range(n)]\n",
    "    return a\n",
    "\n",
    "# Test thử\n",
    "b = SinhNgauNhien(30, -10, 10)\n",
    "print(b)\n",
    "b = SinhNgauNhien(30, vmin = 0)\n",
    "print(b)\n",
    "b = SinhNgauNhien(30, vmax = 2)\n",
    "print(b)\n",
    "\n",
    "def DemTongChanLe(a):\n",
    "    \"\"\"\n",
    "    Input: \n",
    "        a = [1, 4, 2, 0, -1, -7, 3, -6, ...]\n",
    "    Output: \n",
    "        tong, sochan, sole\n",
    "    \"\"\"\n",
    "    tong = sum(a)   \n",
    "    sochan = sum(1 for x in a if x % 2 == 0)  \n",
    "    sole   = sum(1 for x in a if x % 2 != 0)  \n",
    "    return tong, sochan, sole\n",
    "\n",
    "# Test thử\n",
    "a = [1, 4, 2, 0, -1, -7, 3, -6, 4, 9, -5, 7, 7, -7, -10, 1, -10, 9, -4, -6, 10, -2, -10, -8, -3, 2, -7, -10, 6, 0]\n",
    "print(DemTongChanLe(a))\n",
    "a = [9, 6, 5, 0, 8, 8, 1, 10, 0, 0, 1, 1, 2, 7, 1, 10, 9, 1, 10, 8, 2, 8, 4, 5, 4, 5, 5, 3, 6, 2]\n",
    "print(DemTongChanLe(a))\n",
    "\n",
    "def DayChanLe(a):\n",
    "    \"\"\"\n",
    "    Input:\n",
    "        a = [1, 4, 2, 0, -1, -7, 3, -6, ...]\n",
    "    Output: \n",
    "        (achan, ale)\n",
    "        achan = [4, 2, 0, -6, ...]\n",
    "        ale   = [1, -1, -7, 3, ...]\n",
    "    \"\"\"\n",
    "    achan = [x for x in a if x % 2 == 0]  \n",
    "    ale   = [x for x in a if x % 2 != 0]  \n",
    "    return achan, ale\n",
    "\n",
    "# Test thử\n",
    "a = [1, 4, 2, 0, -1, -7, 3, -6, 4, 9, -5, 7, 7, -7, -10, 1, -10, 9, -4, -6, 10, -2, -10, -8, -3, 2, -7, -10, 6, 0]\n",
    "achan, ale = DayChanLe(a)\n",
    "print(f'DayChanLe:\\nChan = {achan}\\nLe = {ale}\\n')"
   ]
  },
  {
   "cell_type": "markdown",
   "id": "f150471c-4fe9-442a-abe3-bb6725409a2b",
   "metadata": {},
   "source": [
    "### Bài 9. Các thao tác trên tập hợp, từ điển"
   ]
  },
  {
   "cell_type": "code",
   "execution_count": 11,
   "id": "dc76da54-0e86-41b6-b453-d99f86fda94d",
   "metadata": {},
   "outputs": [
    {
     "name": "stdout",
     "output_type": "stream",
     "text": [
      "['A', 'C', 'F', 'G', 'H', 'T']\n",
      "{'A': 2, 'G': 1, 'C': 2, 'F': 2, 'T': 1, 'H': 1}\n"
     ]
    }
   ],
   "source": [
    "# Hàm xử lý loại bỏ ký tự trùng và sắp xếp tăng dần\n",
    "def XuLyKhongTrung(a):\n",
    "    \"\"\"\n",
    "    Input:\n",
    "        a = ['A', 'G', 'C', 'A', 'C', 'F', 'F', 'T', 'H']\n",
    "    Output:\n",
    "        s = ['A', 'C', 'F', 'G', 'H', 'T']\n",
    "    \"\"\"\n",
    "    s = set(a)  \n",
    "    return sorted(s)  \n",
    "\n",
    "# Test XuLyKhongTrung\n",
    "a = ['A', 'G', 'C', 'A', 'C', 'F', 'F', 'T', 'H']\n",
    "b = XuLyKhongTrung(a)\n",
    "print(b)  # ['A', 'C', 'F', 'G', 'H', 'T']\n",
    "\n",
    "\n",
    "# Hàm đếm số lần xuất hiện các ký tự trong dãy\n",
    "def DemSoLanXuatHien(a):\n",
    "    \"\"\"\n",
    "    Input:\n",
    "        a = ['A', 'G', 'C', 'A', 'C', 'F', 'F', 'T', 'H']\n",
    "    Output:\n",
    "        dem = {'A': 2, 'G': 1, 'C': 2, 'F': 2, 'T': 1, 'H': 1}\n",
    "    \"\"\"\n",
    "    dem = {} \n",
    "    for x in a:\n",
    "        if x in dem:     # nếu ký tự đã có thì tăng lên 1\n",
    "            dem[x] += 1\n",
    "        else:            # nếu chưa có thì gán bằng 1\n",
    "            dem[x] = 1\n",
    "    return dem\n",
    "\n",
    "# Test DemSoLanXuatHien\n",
    "a = ['A', 'G', 'C', 'A', 'C', 'F', 'F', 'T', 'H']\n",
    "b = DemSoLanXuatHien(a)\n",
    "print(b)  # {'A': 2, 'G': 1, 'C': 2, 'F': 2, 'T': 1, 'H': 1}"
   ]
  },
  {
   "cell_type": "markdown",
   "id": "2ca05948-f3f5-478b-b1e6-833e9c964ab3",
   "metadata": {},
   "source": [
    "# Kết thúc"
   ]
  }
 ],
 "metadata": {
  "kernelspec": {
   "display_name": "Python 3 (ipykernel)",
   "language": "python",
   "name": "python3"
  },
  "language_info": {
   "codemirror_mode": {
    "name": "ipython",
    "version": 3
   },
   "file_extension": ".py",
   "mimetype": "text/x-python",
   "name": "python",
   "nbconvert_exporter": "python",
   "pygments_lexer": "ipython3",
   "version": "3.13.5"
  }
 },
 "nbformat": 4,
 "nbformat_minor": 5
}
