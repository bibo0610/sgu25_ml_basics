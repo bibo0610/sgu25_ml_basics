{
 "cells": [
  {
   "cell_type": "markdown",
   "id": "d8e5f7ca-90e7-4152-8266-fdaf9fefcf9c",
   "metadata": {},
   "source": [
    "# main.ipynb\n",
    "## Demo file ex3_calc.py"
   ]
  },
  {
   "cell_type": "code",
   "execution_count": 1,
   "id": "3a2e1a3e-84e7-46a5-b18e-27038debf0cc",
   "metadata": {},
   "outputs": [
    {
     "name": "stdout",
     "output_type": "stream",
     "text": [
      "Calculator Basic\n"
     ]
    },
    {
     "name": "stdin",
     "output_type": "stream",
     "text": [
      "Moi ban nhap so a:  10\n",
      "Moi ban nhap so b:  5\n"
     ]
    },
    {
     "name": "stdout",
     "output_type": "stream",
     "text": [
      "Ket qua cac phep tinh la:\n",
      "a + b = 10 + 5 = 15\n",
      "a - b = 10 - 5 = 5\n",
      "a * b = 10 * 5 = 50\n",
      "a / b = 10 / 5 = 2.00\n"
     ]
    }
   ],
   "source": [
    "%run ex3_calc.py"
   ]
  },
  {
   "cell_type": "markdown",
   "id": "1e94f51c-252c-4997-b7cd-7d22032e533e",
   "metadata": {},
   "source": [
    "# Kết thúc"
   ]
  }
 ],
 "metadata": {
  "kernelspec": {
   "display_name": "Python 3 (ipykernel)",
   "language": "python",
   "name": "python3"
  },
  "language_info": {
   "codemirror_mode": {
    "name": "ipython",
    "version": 3
   },
   "file_extension": ".py",
   "mimetype": "text/x-python",
   "name": "python",
   "nbconvert_exporter": "python",
   "pygments_lexer": "ipython3",
   "version": "3.13.5"
  }
 },
 "nbformat": 4,
 "nbformat_minor": 5
}
